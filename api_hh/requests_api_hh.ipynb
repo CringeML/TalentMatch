{
 "cells": [
  {
   "cell_type": "code",
   "execution_count": 1,
   "metadata": {},
   "outputs": [],
   "source": [
    "import requests\n",
    "import json\n",
    "import time\n",
    "import os\n",
    "import pandas as pd"
   ]
  },
  {
   "cell_type": "code",
   "execution_count": 89,
   "metadata": {},
   "outputs": [],
   "source": [
    "def getPage(page = 0):\n",
    "    params = {\n",
    "        'text': 'NAME:Web - дизайнер', # - текст запроса \n",
    "        'area': 1, # город поиска\n",
    "        'page': page, # индекс страницы поиска\n",
    "        'per_page': 100 # число вакансий на странице\n",
    "    }\n",
    "    \n",
    "    \n",
    "    req = requests.get('https://api.hh.ru/vacancies', params) \n",
    "    data = req.content.decode() \n",
    "    req.close()\n",
    "    return data"
   ]
  },
  {
   "cell_type": "code",
   "execution_count": 90,
   "metadata": {},
   "outputs": [
    {
     "name": "stdout",
     "output_type": "stream",
     "text": [
      "Старницы поиска собраны\n"
     ]
    }
   ],
   "source": [
    "for page in range(0, 20):\n",
    "    \n",
    "    jsObj = json.loads(getPage(page))\n",
    "    \n",
    "    # Сохраняем файлы в папку .\\paginations\n",
    "    nextFileName = './paginations/{}.json'.format(len(os.listdir('./paginations')))\n",
    "\n",
    "    f = open(nextFileName, mode='w', encoding='utf8')\n",
    "    f.write(json.dumps(jsObj, ensure_ascii=False))\n",
    "    f.close()\n",
    "    \n",
    "    # проверка на последнюю страницу, если вакансий меньше 2000\n",
    "    if (jsObj['pages'] - page) <= 1:\n",
    "        break\n",
    "    \n",
    "    time.sleep(0.25)\n",
    "    \n",
    "print('Старницы поиска собраны')"
   ]
  },
  {
   "cell_type": "code",
   "execution_count": 91,
   "metadata": {},
   "outputs": [
    {
     "name": "stdout",
     "output_type": "stream",
     "text": [
      "Вакансии собраны\n"
     ]
    }
   ],
   "source": [
    "\n",
    "for fl in os.listdir('./paginations'):\n",
    "    f = open('./paginations/{}'.format(fl), encoding='utf8')\n",
    "    jsonText = f.read()\n",
    "    f.close()\n",
    "    jsonObj = json.loads(jsonText)\n",
    "    \n",
    "    for v in jsonObj['items']:\n",
    "        \n",
    "        # Обращаемся к API и получаем детальную информацию по конкретной вакансии\n",
    "        req = requests.get(v['url'])\n",
    "        data = req.content.decode()\n",
    "        req.close()\n",
    "        \n",
    "        # Создаем файл в формате json с идентификатором вакансии в качестве названия\n",
    "        # Записываем в него ответ запроса и закрываем файл\n",
    "        fileName = './vacations/{}.json'.format(v['id'])\n",
    "        f = open(fileName, mode='w', encoding='utf8')\n",
    "        f.write(data)\n",
    "        f.close()\n",
    "        \n",
    "        time.sleep(0.25)\n",
    "        \n",
    "print('Вакансии собраны')"
   ]
  },
  {
   "cell_type": "code",
   "execution_count": 92,
   "metadata": {},
   "outputs": [],
   "source": [
    "# Создаем списки для столбцов таблицы vacancies\n",
    "IDs = [] # Список идентификаторов вакансий\n",
    "names = [] # Список наименований вакансий\n",
    "descriptions = [] # Список описаний вакансий\n",
    "\n",
    "# Создаем списки для столбцов таблицы skills\n",
    "skills_vac = [] # Список идентификаторов вакансий\n",
    "skills_name = [] # Список названий навыков\n",
    "\n",
    "# В выводе будем отображать прогресс\n",
    "cnt_docs = len(os.listdir('./vacations'))\n",
    "i = 0"
   ]
  },
  {
   "cell_type": "code",
   "execution_count": 93,
   "metadata": {},
   "outputs": [
    {
     "data": {
      "text/plain": [
       "'Готово 128 из 190'"
      ]
     },
     "metadata": {},
     "output_type": "display_data"
    }
   ],
   "source": [
    "# Проходимся по всем файлам в папке vacancies\n",
    "for fl in os.listdir('./vacations'):\n",
    "    \n",
    "    # Открываем, читаем и закрываем файл\n",
    "    f = open('./vacations/{}'.format(fl), encoding='utf8')\n",
    "    jsonText = f.read()\n",
    "    f.close()\n",
    "    \n",
    "    # Текст файла переводим в справочник\n",
    "    jsonObj = json.loads(jsonText)\n",
    "    \n",
    "    if 'id' in jsonObj:\n",
    "        IDs.append(jsonObj['id'])\n",
    "        names.append(jsonObj['name'])\n",
    "        descriptions.append(jsonObj['description'])\n",
    "    \n",
    "        # Т.к. навыки хранятся в виде массива, то проходимся по нему циклом\n",
    "        for skl in jsonObj['key_skills']:\n",
    "            skills_vac.append(jsonObj['id'])\n",
    "            skills_name.append(skl['name'])\n",
    "    \n",
    "        # Увеличиваем счетчик обработанных файлов на 1, очищаем вывод ячейки и выводим прогресс\n",
    "        i += 1\n",
    "        display.clear_output(wait=True)\n",
    "        display.display('Готово {} из {}'.format(i, cnt_docs))"
   ]
  },
  {
   "cell_type": "code",
   "execution_count": 94,
   "metadata": {},
   "outputs": [],
   "source": [
    "# Создаем пандосовский датафрейм, который затем сохраняем в БД в таблицу vacancies\n",
    "df = pd.DataFrame({'id': IDs, 'name': names, 'description': descriptions})\n"
   ]
  },
  {
   "cell_type": "code",
   "execution_count": 95,
   "metadata": {},
   "outputs": [
    {
     "data": {
      "text/html": [
       "<div>\n",
       "<style scoped>\n",
       "    .dataframe tbody tr th:only-of-type {\n",
       "        vertical-align: middle;\n",
       "    }\n",
       "\n",
       "    .dataframe tbody tr th {\n",
       "        vertical-align: top;\n",
       "    }\n",
       "\n",
       "    .dataframe thead th {\n",
       "        text-align: right;\n",
       "    }\n",
       "</style>\n",
       "<table border=\"1\" class=\"dataframe\">\n",
       "  <thead>\n",
       "    <tr style=\"text-align: right;\">\n",
       "      <th></th>\n",
       "      <th>id</th>\n",
       "      <th>name</th>\n",
       "      <th>description</th>\n",
       "    </tr>\n",
       "  </thead>\n",
       "  <tbody>\n",
       "    <tr>\n",
       "      <th>0</th>\n",
       "      <td>87395444</td>\n",
       "      <td>Бизнес аналитик (Web)</td>\n",
       "      <td>&lt;p&gt;&lt;strong&gt;Banks Soft Systems — &lt;/strong&gt;аккре...</td>\n",
       "    </tr>\n",
       "    <tr>\n",
       "      <th>1</th>\n",
       "      <td>87743438</td>\n",
       "      <td>Веб-дизайнер</td>\n",
       "      <td>&lt;p&gt;Привет!&lt;/p&gt; &lt;p&gt;Мы ищем в свою команду &lt;stro...</td>\n",
       "    </tr>\n",
       "    <tr>\n",
       "      <th>2</th>\n",
       "      <td>90151202</td>\n",
       "      <td>UI graphic web designer</td>\n",
       "      <td>&lt;p&gt;&lt;em&gt;Мы занимаемся разработкой и поддержкой ...</td>\n",
       "    </tr>\n",
       "    <tr>\n",
       "      <th>3</th>\n",
       "      <td>90340413</td>\n",
       "      <td>Дизайнер-верстальщик/Web Дизайнер</td>\n",
       "      <td>&lt;p&gt;Ведем поиск дизайнера-верстальщика в крупну...</td>\n",
       "    </tr>\n",
       "    <tr>\n",
       "      <th>4</th>\n",
       "      <td>90385162</td>\n",
       "      <td>Web-дизайнер</td>\n",
       "      <td>&lt;p&gt;Мы ищем &lt;strong&gt;Web-дизайнера&lt;/strong&gt; для ...</td>\n",
       "    </tr>\n",
       "  </tbody>\n",
       "</table>\n",
       "</div>"
      ],
      "text/plain": [
       "         id                               name  \\\n",
       "0  87395444              Бизнес аналитик (Web)   \n",
       "1  87743438                       Веб-дизайнер   \n",
       "2  90151202            UI graphic web designer   \n",
       "3  90340413  Дизайнер-верстальщик/Web Дизайнер   \n",
       "4  90385162                       Web-дизайнер   \n",
       "\n",
       "                                         description  \n",
       "0  <p><strong>Banks Soft Systems — </strong>аккре...  \n",
       "1  <p>Привет!</p> <p>Мы ищем в свою команду <stro...  \n",
       "2  <p><em>Мы занимаемся разработкой и поддержкой ...  \n",
       "3  <p>Ведем поиск дизайнера-верстальщика в крупну...  \n",
       "4  <p>Мы ищем <strong>Web-дизайнера</strong> для ...  "
      ]
     },
     "execution_count": 95,
     "metadata": {},
     "output_type": "execute_result"
    }
   ],
   "source": [
    "df.head()"
   ]
  },
  {
   "cell_type": "code",
   "execution_count": 87,
   "metadata": {},
   "outputs": [],
   "source": [
    "df.to_csv('.\\api_hh\\vacations_design.csv', index=False)"
   ]
  }
 ],
 "metadata": {
  "kernelspec": {
   "display_name": "Python 3.9.12 ('base')",
   "language": "python",
   "name": "python3"
  },
  "language_info": {
   "codemirror_mode": {
    "name": "ipython",
    "version": 3
   },
   "file_extension": ".py",
   "mimetype": "text/x-python",
   "name": "python",
   "nbconvert_exporter": "python",
   "pygments_lexer": "ipython3",
   "version": "3.9.12"
  },
  "orig_nbformat": 4,
  "vscode": {
   "interpreter": {
    "hash": "935a784c055a7b21e047e8af34b03b2623f1270c39444abb64202b2d0bed73c4"
   }
  }
 },
 "nbformat": 4,
 "nbformat_minor": 2
}
